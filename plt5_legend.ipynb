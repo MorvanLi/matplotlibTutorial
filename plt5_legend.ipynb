{
 "cells": [
  {
   "cell_type": "code",
   "execution_count": 1,
   "id": "fb249f18",
   "metadata": {},
   "outputs": [],
   "source": [
    "import matplotlib.pyplot as plt\n",
    "import numpy as np"
   ]
  },
  {
   "cell_type": "code",
   "execution_count": 2,
   "id": "e4041f25",
   "metadata": {},
   "outputs": [
    {
     "data": {
      "image/png": "[encoded data removed]",
      "text/plain": [
       "<Figure size 432x288 with 1 Axes>"
      ]
     },
     "metadata": {
      "needs_background": "light"
     },
     "output_type": "display_data"
    }
   ],
   "source": [
    "np.random.seed(0)\n",
    "x = np.linspace(-3, 3, 50)\n",
    "y1 = 2*x + 1\n",
    "y2 = x**2\n",
    "\n",
    "plt.figure()\n",
    "# set x limits\n",
    "plt.xlim((-1, 2))\n",
    "plt.ylim((-2, 3))\n",
    "\n",
    "# set new sticks\n",
    "new_sticks = np.linspace(-1, 2, 5)\n",
    "plt.xticks(new_sticks)\n",
    "# set tick labels\n",
    "plt.yticks([-2, -1.8, -1, 1.22, 3],\n",
    "           [r'$really\\ bad$', r'$bad$', r'$normal$', r'$good$', r'$really\\ good$'])\n",
    "\n",
    "l1, = plt.plot(x, y1, label='linear line')\n",
    "l2, = plt.plot(x, y2, color='red', linewidth=1.0, linestyle='--', label='square line')\n",
    "\n",
    "plt.legend(loc='best')\n",
    "# plt.legend(handles=[l1, l2], labels=['up', 'down'],  loc='best')\n",
    "# the \",\" is very important in here l1, = plt... and l2, = plt... for this step\n",
    "\"\"\"legend( handles=(line1, line2, line3),\n",
    "           labels=('label1', 'label2', 'label3'),\n",
    "           'upper right')\n",
    "    The *loc* location codes are::\n",
    "          'best' : 0,          (currently not supported for figure legends)\n",
    "          'upper right'  : 1,\n",
    "          'upper left'   : 2,\n",
    "          'lower left'   : 3,\n",
    "          'lower right'  : 4,\n",
    "          'right'        : 5,\n",
    "          'center left'  : 6,\n",
    "          'center right' : 7,\n",
    "          'lower center' : 8,\n",
    "          'upper center' : 9,\n",
    "          'center'       : 10,\"\"\"\n",
    "plt.savefig('./images/plt5_legend.png',dpi=250,format='png')\n",
    "plt.show()"
   ]
  },
  {
   "cell_type": "code",
   "execution_count": null,
   "id": "902c95be",
   "metadata": {},
   "outputs": [],
   "source": []
  }
 ],
 "metadata": {
  "kernelspec": {
   "display_name": "Python [conda env:morvanli] *",
   "language": "python",
   "name": "conda-env-morvanli-py"
  },
  "language_info": {
   "codemirror_mode": {
    "name": "ipython",
    "version": 3
   },
   "file_extension": ".py",
   "mimetype": "text/x-python",
   "name": "python",
   "nbconvert_exporter": "python",
   "pygments_lexer": "ipython3",
   "version": "3.6.13"
  },
  "toc": {
   "base_numbering": 1,
   "nav_menu": {},
   "number_sections": true,
   "sideBar": true,
   "skip_h1_title": false,
   "title_cell": "Table of Contents",
   "title_sidebar": "Contents",
   "toc_cell": false,
   "toc_position": {},
   "toc_section_display": true,
   "toc_window_display": false
  }
 },
 "nbformat": 4,
 "nbformat_minor": 5
}
