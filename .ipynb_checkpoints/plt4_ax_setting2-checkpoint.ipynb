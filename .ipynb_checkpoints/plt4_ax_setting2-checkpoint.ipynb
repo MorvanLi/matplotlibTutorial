{
 "cells": [
  {
   "cell_type": "code",
   "execution_count": 1,
   "id": "51a09065",
   "metadata": {},
   "outputs": [],
   "source": [
    "import matplotlib.pyplot as plt\n",
    "import numpy as np"
   ]
  },
  {
   "cell_type": "code",
   "execution_count": 2,
   "id": "872362d5",
   "metadata": {},
   "outputs": [
    {
     "data": {
      "image/png": "[encoded data removed]",
      "text/plain": [
       "<Figure size 432x288 with 1 Axes>"
      ]
     },
     "metadata": {
      "needs_background": "light"
     },
     "output_type": "display_data"
    }
   ],
   "source": [
    "x = np.linspace(-3, 3, 50)\n",
    "y1 = 2*x + 1\n",
    "y2 = x**2\n",
    "\n",
    "plt.figure()\n",
    "plt.plot(x, y2)\n",
    "# plot the second curve in this figure with certain parameters\n",
    "plt.plot(x, y1, color='red', linewidth=1.0, linestyle='--')\n",
    "# set x limits\n",
    "plt.xlim((-1, 2))\n",
    "plt.ylim((-2, 3))\n",
    "\n",
    "# set new ticks\n",
    "new_ticks = np.linspace(-1, 2, 5)\n",
    "plt.xticks(new_ticks)\n",
    "# set tick labels\n",
    "plt.yticks([-2, -1.8, -1, 1.22, 3],\n",
    "           ['$really\\ bad$', '$bad$', '$normal$', '$good$', '$really\\ good$'])\n",
    "# to use '$ $' for math text and nice looking, e.g. '$\\pi$'\n",
    "# gca = 'get current axis'\n",
    "ax = plt.gca()\n",
    "ax.spines['right'].set_color('none')\n",
    "ax.spines['top'].set_color('none')\n",
    "\n",
    "ax.xaxis.set_ticks_position('bottom')\n",
    "# ACCEPTS: [ 'top' | 'bottom' | 'both' | 'default' | 'none' ]\n",
    "\n",
    "ax.spines['bottom'].set_position(('data', 0))\n",
    "# the 1st is in 'outward' | 'axes' | 'data'\n",
    "# axes: percentage of y axis\n",
    "# data: depend on y data\n",
    "\n",
    "ax.yaxis.set_ticks_position('left')\n",
    "# ACCEPTS: [ 'left' | 'right' | 'both' | 'default' | 'none' ]\n",
    "\n",
    "ax.spines['left'].set_position(('data',0))\n",
    "plt.savefig('./images/plt4_ax_setting2.png',dpi=250,format='png')\n",
    "plt.show()"
   ]
  },
  {
   "cell_type": "code",
   "execution_count": null,
   "id": "cd32272c",
   "metadata": {},
   "outputs": [],
   "source": []
  }
 ],
 "metadata": {
  "kernelspec": {
   "display_name": "Python [conda env:morvanli] *",
   "language": "python",
   "name": "conda-env-morvanli-py"
  },
  "language_info": {
   "codemirror_mode": {
    "name": "ipython",
    "version": 3
   },
   "file_extension": ".py",
   "mimetype": "text/x-python",
   "name": "python",
   "nbconvert_exporter": "python",
   "pygments_lexer": "ipython3",
   "version": "3.6.13"
  },
  "toc": {
   "base_numbering": 1,
   "nav_menu": {},
   "number_sections": true,
   "sideBar": true,
   "skip_h1_title": false,
   "title_cell": "Table of Contents",
   "title_sidebar": "Contents",
   "toc_cell": false,
   "toc_position": {},
   "toc_section_display": true,
   "toc_window_display": false
  }
 },
 "nbformat": 4,
 "nbformat_minor": 5
}
